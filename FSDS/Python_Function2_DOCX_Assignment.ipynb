{
 "cells": [
  {
   "cell_type": "code",
   "execution_count": 1,
   "id": "d0a93b09",
   "metadata": {},
   "outputs": [],
   "source": [
    "fsdsDir = \"D:\\\\afarane\\\\FSDS\"\n",
    "import os\n",
    "os.chdir(fsdsDir)"
   ]
  },
  {
   "cell_type": "code",
   "execution_count": 2,
   "id": "346f5ec0",
   "metadata": {},
   "outputs": [],
   "source": [
    "if not os.path.exists(\"Assignments\"):\n",
    "    os.mkdir(\"Assignments\")"
   ]
  },
  {
   "cell_type": "code",
   "execution_count": 3,
   "id": "51818b7b",
   "metadata": {},
   "outputs": [
    {
     "data": {
      "text/plain": [
       "['Assignments',\n",
       " 'Assignment_10.docx',\n",
       " 'Assignment_7.docx',\n",
       " 'Assignment_8.docx',\n",
       " 'Assignment_9.docx']"
      ]
     },
     "execution_count": 3,
     "metadata": {},
     "output_type": "execute_result"
    }
   ],
   "source": [
    "os.listdir()"
   ]
  },
  {
   "cell_type": "code",
   "execution_count": 4,
   "id": "b3e7615a",
   "metadata": {},
   "outputs": [
    {
     "name": "stdout",
     "output_type": "stream",
     "text": [
      "D:\\afarane\\FSDS\\Assignment_10.docx\n",
      "D:\\afarane\\FSDS\\Assignment_7.docx\n",
      "D:\\afarane\\FSDS\\Assignment_8.docx\n",
      "D:\\afarane\\FSDS\\Assignment_9.docx\n"
     ]
    }
   ],
   "source": [
    "import shutil\n",
    "\n",
    "for file in os.listdir():\n",
    "    if file.endswith(\".docx\"):\n",
    "        print(os.path.join(fsdsDir, file))\n",
    "        shutil.move(os.path.join(fsdsDir, file),os.path.join(fsdsDir,\"Assignments\",file))        \n",
    "        "
   ]
  },
  {
   "cell_type": "code",
   "execution_count": 5,
   "id": "c68d3ad3",
   "metadata": {},
   "outputs": [
    {
     "data": {
      "text/plain": [
       "'D:\\\\afarane\\\\FSDS\\\\Assignments'"
      ]
     },
     "execution_count": 5,
     "metadata": {},
     "output_type": "execute_result"
    }
   ],
   "source": [
    "os.chdir(os.path.join(fsdsDir,\"Assignments\"))    \n",
    "os.getcwd()"
   ]
  },
  {
   "cell_type": "code",
   "execution_count": 6,
   "id": "6cd87f88",
   "metadata": {},
   "outputs": [],
   "source": [
    "from docx import Document\n",
    "\n",
    "newdoc = Document()\n",
    "\n",
    "for file in os.listdir():\n",
    "    if file.endswith(\".docx\"):\n",
    "        doc = Document(file)\n",
    "        for para in doc.paragraphs:\n",
    "            if para.text != \"\":                \n",
    "                newdoc.add_paragraph(os.path.splitext(os.path.basename(file))[0] +'_'+ para.text) \n",
    "                \n",
    "newdoc.save(os.path.join(os.getcwd(),\"OneFile.docx\"))                "
   ]
  },
  {
   "cell_type": "code",
   "execution_count": 7,
   "id": "ca62db29",
   "metadata": {},
   "outputs": [
    {
     "name": "stdout",
     "output_type": "stream",
     "text": [
      "Assignment_10_1. How do you distinguish between shutil.copy() and shutil.copytree()?\n",
      "Assignment_10_2. What function is used to rename files??\n",
      "Assignment_10_3. What is the difference between the delete functions in the send2trash and shutil modules?\n",
      "Assignment_10_4.ZipFile objects have a close() method just like File objects’ close() method. What ZipFile method is equivalent to File objects’ open() method?\n",
      "Assignment_10_5. Create a programme that searches a folder tree for files with a certain file extension (such as .pdf or .jpg). Copy these files from whatever location they are in to a new folder.\n",
      "Assignment_7_1. What is the name of the feature responsible for generating Regex objects?\n",
      "Assignment_7_2. Why do raw strings often appear in Regex objects?\n",
      "Assignment_7_3. What is the return value of the search() method?\n",
      "Assignment_7_4. From a Match item, how do you get the actual strings that match the pattern?\n",
      "Assignment_7_5. In the regex which created from the r'(\\d\\d\\d)-(\\d\\d\\d-\\d\\d\\d\\d)', what does group zero cover? Group 2? Group 1?\n",
      "Assignment_7_6. In standard expression syntax, parentheses and intervals have distinct meanings. How can you tell a regex that you want it to fit real parentheses and periods?\n",
      "Assignment_7_7. The findall() method returns a string list or a list of string tuples. What causes it to return one of the two options?\n",
      "Assignment_7_8. In standard expressions, what does the | character mean?\n",
      "Assignment_7_9. In regular expressions, what does the character stand for?\n",
      "Assignment_7_10.In regular expressions, what is the difference between the + and * characters?\n",
      "Assignment_7_11. What is the difference between {4} and {4,5} in regular expression?\n",
      "Assignment_7_12. What do you mean by the \\d, \\w, and \\s shorthand character classes signify in regular expressions?\n",
      "Assignment_7_13. What do means by \\D, \\W, and \\S shorthand character classes signify in regular expressions?\n",
      "Assignment_7_14. What is the difference between .*? and .*?\n",
      "Assignment_7_15. What is the syntax for matching both numbers and lowercase letters with a character class?\n",
      "Assignment_7_16. What is the procedure for making a normal expression in regax case insensitive?\n",
      "Assignment_7_17. What does the . character normally match? What does it match if re.DOTALL is passed as 2nd argument in re.compile()?\n",
      "Assignment_7_18. If numReg = re.compile(r'\\d+'), what will numRegex.sub('X', '11 drummers, 10 pipers, five rings, 4 hen') return?\n",
      "Assignment_7_19. What does passing re.VERBOSE as the 2nd argument to re.compile() allow to do?\n",
      "Assignment_7_20. How would you write a regex that match a number with comma for every three digits? It must match the given following:\n",
      "Assignment_7_'42'\n",
      "Assignment_7_'1,234'\n",
      "Assignment_7_'6,368,745'\n",
      "Assignment_7_but not the following:\n",
      "Assignment_7_'12,34,567' (which has only two digits between the commas)\n",
      "Assignment_7_'1234' (which lacks commas)\n",
      "Assignment_7_21. How would you write a regex that matches the full name of someone whose last name is Watanabe? You can assume that the first name that comes before it will always be one word that begins with a capital letter. The regex must match the following:\n",
      "Assignment_7_'Haruto Watanabe'\n",
      "Assignment_7_'Alice Watanabe'\n",
      "Assignment_7_'RoboCop Watanabe'\n",
      "Assignment_7_but not the following:\n",
      "Assignment_7_'haruto Watanabe' (where the first name is not capitalized)\n",
      "Assignment_7_'Mr. Watanabe' (where the preceding word has a nonletter character)\n",
      "Assignment_7_'Watanabe' (which has no first name)\n",
      "Assignment_7_'Haruto watanabe' (where Watanabe is not capitalized)\n",
      "Assignment_7_22. How would you write a regex that matches a sentence where the first word is either Alice, Bob, or Carol; the second word is either eats, pets, or throws; the third word is apples, cats, or baseballs; and the sentence ends with a period? This regex should be case-insensitive. It must match the following:\n",
      "Assignment_7_'Alice eats apples.'\n",
      "Assignment_7_'Bob pets cats.'\n",
      "Assignment_7_'Carol throws baseballs.'\n",
      "Assignment_7_'Alice throws Apples.'\n",
      "Assignment_7_'BOB EATS CATS.'\n",
      "Assignment_7_but not the following:\n",
      "Assignment_7_'RoboCop eats apples.'\n",
      "Assignment_7_'ALICE THROWS FOOTBALLS.'\n",
      "Assignment_7_'Carol eats 7 cats.'\n",
      "Assignment_8_1. Is the Python Standard Library included with PyInputPlus?\n",
      "Assignment_8_2. Why is PyInputPlus commonly imported with import pyinputplus as pypi?\n",
      "Assignment_8_3. How do you distinguish between inputInt() and inputFloat()?\n",
      "Assignment_8_4. Using PyInputPlus, how do you ensure that the user enters a whole number between 0 and 99?\n",
      "Assignment_8_5. What is transferred to the keyword arguments allowRegexes and blockRegexes?\n",
      "Assignment_8_6. If a blank input is entered three times, what does inputStr(limit=3) do?\n",
      "Assignment_8_7. If blank input is entered three times, what does inputStr(limit=3, default='hello') do?\n",
      "Assignment_9_1. To what does a relative path refer?\n",
      "Assignment_9_2. What does an absolute path start with your operating system?\n",
      "Assignment_9_3. What do the functions os.getcwd() and os.chdir() do?\n",
      "Assignment_9_4. What are the . and .. folders?\n",
      "Assignment_9_5. In C:\\bacon\\eggs\\spam.txt, which part is the dir name, and which part is the base name?\n",
      "Assignment_9_6. What are the three “mode” arguments that can be passed to the open() function?\n",
      "Assignment_9_7. What happens if an existing file is opened in write mode?\n",
      "Assignment_9_8. How do you tell the difference between read() and readlines()?\n",
      "Assignment_9_9. What data structure does a shelf value resemble?\n"
     ]
    }
   ],
   "source": [
    "readDoc = Document(\"OneFile.docx\")\n",
    "for para in readDoc.paragraphs:\n",
    "    print(para.text)"
   ]
  },
  {
   "cell_type": "code",
   "execution_count": 8,
   "id": "5d40801b",
   "metadata": {},
   "outputs": [],
   "source": [
    "# How to get assignment questions in order."
   ]
  },
  {
   "cell_type": "code",
   "execution_count": null,
   "id": "13b94754",
   "metadata": {},
   "outputs": [],
   "source": []
  }
 ],
 "metadata": {
  "kernelspec": {
   "display_name": "Python 3 (ipykernel)",
   "language": "python",
   "name": "python3"
  },
  "language_info": {
   "codemirror_mode": {
    "name": "ipython",
    "version": 3
   },
   "file_extension": ".py",
   "mimetype": "text/x-python",
   "name": "python",
   "nbconvert_exporter": "python",
   "pygments_lexer": "ipython3",
   "version": "3.9.7"
  }
 },
 "nbformat": 4,
 "nbformat_minor": 5
}
