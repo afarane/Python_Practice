{
 "cells": [
  {
   "cell_type": "code",
   "execution_count": 1,
   "id": "fc6d4027",
   "metadata": {},
   "outputs": [],
   "source": [
    "def fib(n):\n",
    "    a = 1\n",
    "    b = 2\n",
    "    for i in range(n):\n",
    "        yield a\n",
    "        a, b = b, a+b\n",
    "        "
   ]
  },
  {
   "cell_type": "code",
   "execution_count": 2,
   "id": "9bfdc489",
   "metadata": {},
   "outputs": [
    {
     "name": "stdout",
     "output_type": "stream",
     "text": [
      "1,2,3,5,8,13,21,34,55,89,"
     ]
    }
   ],
   "source": [
    "for i in fib(10):\n",
    "    print(i,end=\",\")"
   ]
  },
  {
   "cell_type": "code",
   "execution_count": 3,
   "id": "bf7a98f9",
   "metadata": {},
   "outputs": [
    {
     "name": "stdout",
     "output_type": "stream",
     "text": [
      " Volume in drive D is DATA\n",
      " Volume Serial Number is AC24-CEA5\n",
      "\n",
      " Directory of D:\\work_dsi\\Python_Practice\\FSDS\n",
      "\n",
      "01/23/2022  12:14 AM    <DIR>          .\n",
      "01/23/2022  12:14 AM    <DIR>          ..\n",
      "01/22/2022  07:33 AM    <DIR>          .ipynb_checkpoints\n",
      "01/21/2022  06:30 PM             5,881 FSDS_Python_Assignment_7_Solved_afarane.ipynb\n",
      "01/21/2022  06:30 PM             2,647 MLDL_Python_Assignment_3.ipynb\n",
      "01/23/2022  12:14 AM            23,843 practice.ipynb\n",
      "01/22/2022  06:55 AM            10,032 Python_Function2_DOCX_Assignment.ipynb\n",
      "01/21/2022  02:07 AM             3,548 Star Pattern Problem and Solutions.ipynb\n",
      "01/23/2022  12:13 AM               188 test1.log\n",
      "               6 File(s)         46,139 bytes\n",
      "               3 Dir(s)  197,540,237,312 bytes free\n"
     ]
    }
   ],
   "source": [
    "ls"
   ]
  },
  {
   "cell_type": "code",
   "execution_count": 4,
   "id": "e40795d6",
   "metadata": {},
   "outputs": [],
   "source": [
    "f= open(\"text.txt\",\"w\")\n",
    "f.write(\"Heere is \\nnewline sddddf\")\n",
    "f.close()"
   ]
  },
  {
   "cell_type": "code",
   "execution_count": 5,
   "id": "e9a0339e",
   "metadata": {},
   "outputs": [
    {
     "data": {
      "text/plain": [
       "'newline sddddf'"
      ]
     },
     "execution_count": 5,
     "metadata": {},
     "output_type": "execute_result"
    }
   ],
   "source": [
    "f= open(\"text.txt\",\"r+\")\n",
    "f.readline()\n",
    "f.readline()"
   ]
  },
  {
   "cell_type": "code",
   "execution_count": 6,
   "id": "cab8bbae",
   "metadata": {},
   "outputs": [],
   "source": [
    "f.tell()\n",
    "f.close()"
   ]
  },
  {
   "cell_type": "code",
   "execution_count": 7,
   "id": "3c365086",
   "metadata": {},
   "outputs": [],
   "source": [
    "import os\n",
    "os.remove(\"text.txt\")"
   ]
  },
  {
   "cell_type": "code",
   "execution_count": 8,
   "id": "a274a227",
   "metadata": {},
   "outputs": [
    {
     "name": "stdout",
     "output_type": "stream",
     "text": [
      "After Try Catch\n"
     ]
    }
   ],
   "source": [
    "a =\"abc\"\n",
    "try:\n",
    "    if a == \"Abhi\":\n",
    "        raise Exception(\"File is not closed\")\n",
    "except Exception as e:\n",
    "    print(e)\n",
    "    \n",
    "print(\"After Try Catch\")    "
   ]
  },
  {
   "cell_type": "code",
   "execution_count": 9,
   "id": "f717cc14",
   "metadata": {},
   "outputs": [],
   "source": [
    "import logging\n",
    "\n",
    "logging.basicConfig(filename = \"test1.log\",level =logging.INFO, format ='%(asctime)s %(levelname)s %(message)s' )"
   ]
  },
  {
   "cell_type": "code",
   "execution_count": 10,
   "id": "66339584",
   "metadata": {},
   "outputs": [],
   "source": [
    "logging.info(\"This is my info log\")\n",
    "logging.warning(\"This is my warning log\")\n",
    "logging.error(\"This is my error log\")\n",
    "logging.critical(\"This is my critical log\")"
   ]
  },
  {
   "cell_type": "code",
   "execution_count": 11,
   "id": "f3429899",
   "metadata": {},
   "outputs": [],
   "source": [
    "logging.shutdown()"
   ]
  },
  {
   "cell_type": "code",
   "execution_count": 12,
   "id": "450e75f2",
   "metadata": {},
   "outputs": [],
   "source": [
    "def myDiv(a,b):\n",
    "    logging.info(\"This is a base log\")"
   ]
  },
  {
   "cell_type": "code",
   "execution_count": 13,
   "id": "ff47329e",
   "metadata": {},
   "outputs": [],
   "source": [
    "myDiv(4,5)"
   ]
  },
  {
   "cell_type": "code",
   "execution_count": null,
   "id": "0a2d45e2",
   "metadata": {},
   "outputs": [],
   "source": []
  }
 ],
 "metadata": {
  "kernelspec": {
   "display_name": "Python 3 (ipykernel)",
   "language": "python",
   "name": "python3"
  },
  "language_info": {
   "codemirror_mode": {
    "name": "ipython",
    "version": 3
   },
   "file_extension": ".py",
   "mimetype": "text/x-python",
   "name": "python",
   "nbconvert_exporter": "python",
   "pygments_lexer": "ipython3",
   "version": "3.9.7"
  }
 },
 "nbformat": 4,
 "nbformat_minor": 5
}
